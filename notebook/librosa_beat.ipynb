{
 "cells": [
  {
   "cell_type": "code",
   "execution_count": null,
   "metadata": {},
   "outputs": [],
   "source": [
    "import librosa\n",
    "import IPython.display as ipd\n",
    "import madmom"
   ]
  },
  {
   "cell_type": "code",
   "execution_count": null,
   "metadata": {},
   "outputs": [],
   "source": [
    "x, sr = librosa.load('test1.wav')\n",
    "ipd.Audio(x, rate=sr)"
   ]
  },
  {
   "cell_type": "code",
   "execution_count": null,
   "metadata": {},
   "outputs": [],
   "source": [
    "tempo, beat_times = librosa.beat.beat_track(x, sr=sr, start_bpm=60, units='time')"
   ]
  },
  {
   "cell_type": "code",
   "execution_count": null,
   "metadata": {},
   "outputs": [],
   "source": [
    "clicks = librosa.clicks(beat_times, sr=sr, length=len(x))\n",
    "ipd.Audio(x + clicks, rate=sr)"
   ]
  },
  {
   "cell_type": "code",
   "execution_count": null,
   "metadata": {},
   "outputs": [],
   "source": [
    "librosa.output.write_wav('test_beats.wav', x + clicks, sr=sr)"
   ]
  },
  {
   "cell_type": "code",
   "execution_count": null,
   "metadata": {},
   "outputs": [],
   "source": [
    "print(beat_times)"
   ]
  },
  {
   "cell_type": "code",
   "execution_count": null,
   "metadata": {},
   "outputs": [],
   "source": [
    "beats=[1.614 , 2.125 , 2.635 , 3.007 , 3.390 , 3.773 , 4.168 , 4.667 , 5.178 , 5.689 , 6.316 , 6.838 , 7.349 , 7.883 , 8.394 , 8.893 , 9.404 , 9.915 , 10.403 , 10.913 , 11.424 , 12.051 , 12.562 , 13.073 , 13.572 , 14.083 , 14.582 , 15.081 , 15.592 , 16.103 , 16.602 , 17.101 , 17.612 , 18.112 , 18.611 , 19.122 , 19.621 , 20.132 , 20.631 , 21.444 , 21.954 , 22.454 , 22.965 , 23.475 , 24.056 , 24.567 , 25.078 , 25.623 , 26.134 , 26.645 , 27.144 , 27.655 , 28.166 , 28.665 , 29.176 , 30.012 , 30.523 , 31.033 , 31.370 , 31.881 , 32.392 , 32.926 , 33.425 , 33.936 , 34.493 , 35.004 , 35.515 , 36.061 , 36.571 , 37.082 , 37.581 , 38.092 , 38.661 , 39.172 , 39.683 , 40.461 , 40.972 , 41.482 , 41.982 , 42.493 , 43.003 , 43.503 , 44.013 , 44.524 , 45.023 , 45.534 , 46.034 , 46.544 , 47.055 , 47.554 , 48.065 , 48.576 , 49.110 , 49.621 , 50.132 , 50.666 , 51.177 , 51.688 , 52.222 , 52.733 , 53.243 , 53.743 , 54.253 , 54.753 , 55.356 , 55.867 , 56.366 , 56.866 , 57.377 , 57.887 , 58.375 , 58.886 , 59.896 , 60.395 , 61.103 , 61.614 , 62.113 , 62.671 , 63.181 , 63.692 , 64.192 , 64.702 , 65.213 , 65.712 , 66.223 , 66.723 , 67.222 , 67.733 , 68.243 , 68.743 , 69.242 , 69.753 , 70.252 , 70.763 , 71.274 , 72.052 , 72.562 , 73.062 , 73.561 , 74.072 , 74.571 , 75.082 , 75.593 , 76.080 , 76.591 , 77.102 , 77.787 , 78.286 , 78.832 , 79.331 , 79.842 , 80.341 , 80.852 , 81.363 , 81.850 , 82.361 , 82.872 , 83.371 , 83.870 , 84.381 , 84.881 , 85.391 , 85.902 , 86.390 , 86.901 , 87.412 , 87.899 , 88.410 , 88.921 , 89.269 , 89.780 , 90.291 , 90.848 , 91.359 , 91.870 , 92.369 , 92.880 , 93.391 , 93.971 , 94.482 , 95.004 , 95.527 , 96.038 , 96.827 , 97.338 , 97.849 , 98.348 , 98.859 , 99.370 , 99.869 , 100.380 , 100.891 , 101.378 , 101.889 , 102.400 , 102.899 , 103.410 , 103.909 , 104.409 , 104.919 , 105.430 , 105.918 , 106.429 , 106.940 , 107.427 , 107.938]"
   ]
  },
  {
   "cell_type": "code",
   "execution_count": null,
   "metadata": {},
   "outputs": [],
   "source": [
    "beats2 = [i - 1.588 for i in beats]\n",
    "print(beats2)"
   ]
  },
  {
   "cell_type": "code",
   "execution_count": null,
   "metadata": {},
   "outputs": [],
   "source": [
    "clicks2 = librosa.clicks(beats2, sr=sr, length=len(x))\n",
    "ipd.Audio(x + clicks2, rate=sr)"
   ]
  },
  {
   "cell_type": "code",
   "execution_count": null,
   "metadata": {},
   "outputs": [],
   "source": [
    "librosa.output.write_wav('test_beats2.wav', x + clicks2, sr=sr)"
   ]
  },
  {
   "cell_type": "code",
   "execution_count": null,
   "metadata": {},
   "outputs": [],
   "source": [
    "print(tempo)"
   ]
  },
  {
   "cell_type": "code",
   "execution_count": null,
   "metadata": {},
   "outputs": [],
   "source": [
    "\n"
   ]
  },
  {
   "cell_type": "code",
   "execution_count": null,
   "metadata": {},
   "outputs": [],
   "source": [
    "# process\n",
    "fname = 'hll'\n",
    "x, sr = librosa.load(fname + '.wav')\n",
    "\n",
    "\n",
    "proc = madmom.features.beats.DBNBeatTrackingProcessor(fps=100)\n",
    "act = madmom.features.beats.RNNBeatProcessor()(fname + '.wav')\n",
    "beat_times = proc(act)\n",
    "\n",
    "clicks3 = librosa.clicks(beat_times, sr=sr, length=len(x))\n",
    "\n",
    "\n",
    "librosa.output.write_wav(fname + '_beats.wav', x + clicks3, sr=sr)\n",
    "bpm = len(beat_times) * 60.0 / (len(x) * 1.0 / sr )\n",
    "print('BPM = ', bpm )\n",
    "print(beat_times[0])\n",
    "print(beat_times)"
   ]
  },
  {
   "cell_type": "code",
   "execution_count": null,
   "metadata": {},
   "outputs": [],
   "source": [
    "ipd.Audio(x, rate=sr)"
   ]
  },
  {
   "cell_type": "code",
   "execution_count": null,
   "metadata": {},
   "outputs": [],
   "source": [
    "ipd.Audio(x + clicks3, rate=sr)\n"
   ]
  },
  {
   "cell_type": "code",
   "execution_count": null,
   "metadata": {},
   "outputs": [],
   "source": []
  },
  {
   "cell_type": "code",
   "execution_count": null,
   "metadata": {},
   "outputs": [],
   "source": []
  }
 ],
 "metadata": {
  "kernelspec": {
   "display_name": "Python 2",
   "language": "python",
   "name": "python2"
  },
  "language_info": {
   "codemirror_mode": {
    "name": "ipython",
    "version": 2
   },
   "file_extension": ".py",
   "mimetype": "text/x-python",
   "name": "python",
   "nbconvert_exporter": "python",
   "pygments_lexer": "ipython2",
   "version": "2.7.15"
  }
 },
 "nbformat": 4,
 "nbformat_minor": 2
}
